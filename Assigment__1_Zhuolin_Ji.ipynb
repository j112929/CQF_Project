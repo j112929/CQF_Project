{
  "nbformat": 4,
  "nbformat_minor": 0,
  "metadata": {
    "colab": {
      "provenance": [],
      "toc_visible": true
    },
    "kernelspec": {
      "name": "python3",
      "display_name": "Python 3"
    }
  },
  "cells": [
    {
      "cell_type": "markdown",
      "metadata": {
        "id": "EuSZaMewrzAL"
      },
      "source": [
        "Along this file some hints, suggestions and guides will be written to ease the development of the task."
      ]
    },
    {
      "cell_type": "markdown",
      "metadata": {
        "id": "PMko93il4grJ"
      },
      "source": [
        "#Assignment 0 - EMPTY"
      ]
    },
    {
      "cell_type": "markdown",
      "metadata": {
        "id": "E-xyz9TL5lnH"
      },
      "source": [
        "##Preliminary Code:"
      ]
    },
    {
      "cell_type": "markdown",
      "metadata": {
        "id": "wIRBHLufTpVj"
      },
      "source": [
        "###Imports:"
      ]
    },
    {
      "cell_type": "code",
      "metadata": {
        "id": "xsz32IrE5kra"
      },
      "source": [
        "import numpy as np\n",
        "#Hint: use numpy.random to create random behaviours\n",
        "import  random\n",
        "#Hint: use matplotlib.pyplot to present visual data\n",
        "import matplotlib.pyplot as plt"
      ],
      "execution_count": null,
      "outputs": []
    },
    {
      "cell_type": "markdown",
      "metadata": {
        "id": "KfPqtrEv4jdq"
      },
      "source": [
        "##Part 1: Monty Hall Problem\n",
        "\n",
        "Design two different strategies to carry out the Monty Hall decision problem. Compare the results.\n",
        "\n",
        "More information: https://en.wikipedia.org/wiki/Monty_Hall_problem"
      ]
    },
    {
      "cell_type": "code",
      "metadata": {
        "id": "O3IfatWh9BDI",
        "colab": {
          "base_uri": "https://localhost:8080/"
        },
        "outputId": "bdb02841-95bb-458d-8d08-440881e32393"
      },
      "source": [
        "### Initial definitions\n",
        "door_A = 1 #set door A have prize\n",
        "door_B = 0 #set door B not have prize\n",
        "door_C = 0 #set door C not have prize\n",
        "\n",
        "number_NoChange = 0 #not change door count\n",
        "number_Change = 0 #change door count\n",
        "#How many trials? randomness of chosen door?\n",
        "#Answer: 900 trials, randomness of chosen door.\n",
        "\n",
        "### Winning door\n",
        "\n",
        "#Which door hides the prize?\n",
        "#Answer: door A have prize.\n",
        "\n",
        "### Strategy 1\n",
        "for i in range(1,901) :\n",
        "    a = random.uniform(0,1) #Generate random numbers between (0,1)\n",
        "    if 0<a and a<1/3 :\n",
        "        initial_Option = door_A #first select door A\n",
        "    elif 1/3<a and a<2/3 :\n",
        "        initial_Option = door_B #first select door B\n",
        "    else:\n",
        "        initial_Option = door_C #first select door C\n",
        "\n",
        "    if initial_Option == door_A :\n",
        "        b = random.uniform(0,1)\n",
        "        if 0<b and b<1/2 :\n",
        "            rule_out_Option = door_B\n",
        "            ultimately_Option = door_C\n",
        "        else :\n",
        "            rule_out_Option = door_C\n",
        "            ultimately_Option = door_B\n",
        "    else :\n",
        "        ultimately_Option = door_A\n",
        "    if ultimately_Option :\n",
        "        number_Change += 1\n",
        "    else :\n",
        "        number_NoChange += 1\n",
        "print(number_Change)\n",
        "print(number_NoChange)\n",
        "print('The probability of swap door is：', number_Change/900) #0.6633333333333333\n",
        "print('The probability of no swap door is：', number_NoChange/900) #0.33666666666666667\n",
        "#When does the swapping strategy win?\n",
        "#Answer: 1)the first win situation: select door A before swap\n",
        "# 2)the second win situation: select door A after swap\n",
        "\n",
        "\n"
      ],
      "execution_count": null,
      "outputs": [
        {
          "output_type": "stream",
          "name": "stdout",
          "text": [
            "597\n",
            "303\n",
            "The probability of swap door is： 0.6633333333333333\n",
            "The probability of no swap door is： 0.33666666666666667\n"
          ]
        }
      ]
    },
    {
      "cell_type": "code",
      "metadata": {
        "colab": {
          "base_uri": "https://localhost:8080/"
        },
        "id": "_30BrDKSRPRS",
        "outputId": "a8ccc752-4d00-4758-8934-40c2fe6ea597"
      },
      "source": [
        "### Strategy 2\n",
        "number_Change = 0\n",
        "number_NoChange = 0\n",
        "for i in range(1,901) :\n",
        "    a = random.uniform(0,1) #Generate random numbers between (0,1)\n",
        "    if 0<a and a<1/3 :\n",
        "        initial_Option = door_A #first select door A\n",
        "    elif 1/3<a and a<2/3 :\n",
        "        initial_Option = door_B #first select door B\n",
        "    else:\n",
        "        initial_Option = door_C #first select door C\n",
        "    if initial_Option==door_A :\n",
        "        number_NoChange += 1\n",
        "    else :\n",
        "        number_Change += 1\n",
        "print(number_NoChange)\n",
        "print(number_Change)\n",
        "print('The probability of no swap door is：', number_NoChange/900) #0.33666666666666667\n",
        "print('The probability of swap door is：', number_Change/900) #0.6633333333333333\n",
        "#When does the non-swapping strategy win?\n",
        "#Answer: the first select door A\n",
        "\n",
        "\n",
        "### Results comparison:\n",
        "#Answer: The probability of swap door is close to 2/3,\n",
        "#        The probability of keep door is close to 1/3.\n",
        "#Performance of each strategy?\n",
        "#Answer:The probability of swap door is higher.\n"
      ],
      "execution_count": null,
      "outputs": [
        {
          "output_type": "stream",
          "name": "stdout",
          "text": [
            "303\n",
            "597\n",
            "The probability of no swap door is： 0.33666666666666667\n",
            "The probability of swap door is： 0.6633333333333333\n"
          ]
        }
      ]
    },
    {
      "cell_type": "markdown",
      "metadata": {
        "id": "C80sOhOr4-zq"
      },
      "source": [
        "##Part 2: Central Limit Theorem\n",
        "\n",
        "Prove the Central Limit Theorem through a simple experiment.\n",
        "\n",
        "Compare experiment with the theoretical equivalent gaussian curve.\n",
        "\n",
        "More information: https://en.wikipedia.org/wiki/Central_limit_theorem"
      ]
    },
    {
      "cell_type": "code",
      "metadata": {
        "id": "rPYTImY55OC3",
        "colab": {
          "base_uri": "https://localhost:8080/",
          "height": 265
        },
        "outputId": "71e8a85c-bee8-40a8-c7c7-f93eb54f578f"
      },
      "source": [
        "import matplotlib.mlab as mlab\n",
        "### Suggestion: consider the rolls of a die.\n",
        "\n",
        "### Experiment:\n",
        "# rolls 5000 times\n",
        "roll_times = 5000\n",
        "# generate 10000 random numbers\n",
        "data=np.random.randint(1,10,1000)\n",
        "means=[]\n",
        "for i in range(roll_times):\n",
        "  tmp = np.random.choice(data, size=50)\n",
        "  means.append(tmp.mean())\n",
        "\n",
        "plt.hist(means, 30)\n",
        "plt.show()\n"
      ],
      "execution_count": null,
      "outputs": [
        {
          "output_type": "display_data",
          "data": {
            "image/png": "[encoded data removed]",
            "text/plain": [
              "<Figure size 432x288 with 1 Axes>"
            ]
          },
          "metadata": {
            "needs_background": "light"
          }
        }
      ]
    },
    {
      "cell_type": "code",
      "metadata": {
        "colab": {
          "base_uri": "https://localhost:8080/",
          "height": 315
        },
        "id": "xI8-dD1O45hM",
        "outputId": "5083ba8a-faf3-4db5-a8e4-6e4946171cf1"
      },
      "source": [
        "#plot the Histogram of Theoretical gaussian curve\n",
        "mu, sigma = 0,1\n",
        "x = mu + sigma + np.random.randn(10000)\n",
        "n,bins,patches = plt.hist(x,50,density=1, facecolor='r',alpha=0.75)\n",
        "\n",
        "plt.xlabel('x axis')\n",
        "plt.ylabel('y axis')\n",
        "plt.title('Figure 2: Histogram of Theoretical gaussian curve')\n",
        "plt.text(60, .025, r'$mu='+str(mu)+', sigma='+str(sigma)+'$')\n",
        "# plt.axis([0.4,0.8,0,0.03])\n",
        "plt.grid(True)\n",
        "plt.show()"
      ],
      "execution_count": null,
      "outputs": [
        {
          "output_type": "display_data",
          "data": {
            "image/png": "[encoded data removed]",
            "text/plain": [
              "<Figure size 432x288 with 1 Axes>"
            ]
          },
          "metadata": {
            "needs_background": "light"
          }
        }
      ]
    },
    {
      "cell_type": "markdown",
      "metadata": {
        "id": "Qp66iXhsZnaa"
      },
      "source": [
        "#How many trials? randomness of experiment? result?\n",
        "#Answer: 5000 trials; randomness of experiment;It proved to be close to a Gaussian distribution.\n",
        "\n",
        "### Theoretical gaussian curve:\n",
        "#Answer: As shown Figure 2.\n",
        "\n",
        "#Theoretical mean? variance?\n",
        "#Answer:mean=0,variance=1\n",
        "\n",
        "### Representation\n",
        "#Answer：The central limit theorem states that under proper conditions, the mean values of a large number of independent random variables converge to normal distribution after proper normalization. This set of theorems is the theoretical basis of mathematical statistics and error analysis, pointing out the condition that the sum of a large number of random variables nearly obey normal distribution."
      ]
    }
  ]
}