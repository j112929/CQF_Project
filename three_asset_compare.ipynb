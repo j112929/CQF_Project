{
  "nbformat": 4,
  "nbformat_minor": 0,
  "metadata": {
    "colab": {
      "provenance": [],
      "toc_visible": true
    },
    "kernelspec": {
      "name": "python3",
      "display_name": "Python 3"
    },
    "language_info": {
      "name": "python"
    }
  },
  "cells": [
    {
      "cell_type": "code",
      "metadata": {
        "id": "Vp2z0jXuiYoo"
      },
      "source": [
        "!pip install minisom"
      ],
      "execution_count": null,
      "outputs": []
    },
    {
      "cell_type": "code",
      "metadata": {
        "id": "eKKoBB9DmPxI"
      },
      "source": [
        "!pip install yfinance"
      ],
      "execution_count": null,
      "outputs": []
    },
    {
      "cell_type": "code",
      "metadata": {
        "id": "4PYCrGoo9z9y"
      },
      "source": [
        "!wget http://prdownloads.sourceforge.net/ta-lib/ta-lib-0.4.0-src.tar.gz\n",
        "!tar -xzvf ta-lib-0.4.0-src.tar.gz\n",
        "%cd ta-lib\n",
        "!./configure  prefix=/usr\n",
        "!make\n",
        "!make install\n",
        "!pip install Ta-Lib"
      ],
      "execution_count": null,
      "outputs": []
    },
    {
      "cell_type": "code",
      "metadata": {
        "id": "ZWEsyRgbeZR_"
      },
      "source": [
        "# Import libraries\n",
        "import pandas as pd\n",
        "import numpy as np\n",
        "\n",
        "# SOM & Sklearn library\n",
        "from minisom import MiniSom\n",
        "from sklearn.preprocessing import MinMaxScaler\n",
        "\n",
        "# Visualization library\n",
        "import matplotlib.pyplot as plt\n",
        "plt.style.use('fivethirtyeight')\n",
        "\n",
        "# Ignore warnings\n",
        "import warnings\n",
        "warnings.filterwarnings('ignore')\n",
        "\n",
        "from pathlib import Path\n",
        "pd.core.common.is_list_like = pd.api.types.is_list_like\n",
        "# import pandas_datareader as pdr\n",
        "from pandas_datareader import data as pdr\n",
        "import yfinance as yf\n",
        "yf.pdr_override()\n",
        "from pandas_datareader.famafrench import get_available_datasets\n",
        "\n",
        "import talib\n",
        "\n",
        "results_path = Path('results', 'lstm_time_series')\n",
        "if not results_path.exists():\n",
        "    results_path.mkdir(parents=True)"
      ],
      "execution_count": null,
      "outputs": []
    },
    {
      "cell_type": "code",
      "metadata": {
        "colab": {
          "base_uri": "https://localhost:8080/",
          "height": 1000
        },
        "id": "TMUSAewQikah",
        "outputId": "730e4bad-1708-49a9-b1d7-7c0e3718e881"
      },
      "source": [
        "df_google = pdr.get_data_yahoo(\"GOOGL\", start=\"2017-01-01\", end=\"2017-04-30\")\n",
        "\n",
        "df_gold = pdr.get_data_yahoo(\"Gold\", start=\"2017-01-01\", end=\"2017-04-30\")\n",
        "df_oil = pdr.get_data_yahoo(\"Oil\", start=\"2017-01-01\", end=\"2017-04-30\")\n",
        "\n",
        "df_google['ATR-9'] = talib.ATR(df_google[\"High\"],df_google[\"Low\"],df_google[\"Close\"], timeperiod=9)\n",
        "df_gold['ATR-9'] = talib.ATR(df_gold[\"High\"],df_gold[\"Low\"],df_gold[\"Close\"], timeperiod=9)\n",
        "df_oil['ATR-9'] = talib.ATR(df_oil[\"High\"],df_oil[\"Low\"],df_oil[\"Close\"], timeperiod=9)\n",
        "\n",
        "# df_google['ATR-9'] = talib.ATR(df_google[\"High\"],df_google[\"Low\"],df_google[\"Close\"], timeperiod=9)\n",
        "# df_gold['ATR-9'] = talib.ATR(df_gold[\"High\"],df_gold[\"Low\"],df_gold[\"Close\"], timeperiod=9)\n",
        "# df_oil['ATR-9'] = talib.ATR(df_oil[\"High\"],df_oil[\"Low\"],df_oil[\"Close\"], timeperiod=9)\n",
        "\n",
        "df_google.dropna()\n",
        "df_gold.dropna()\n",
        "df_oil.dropna()\n",
        "\n",
        "df_google_atr_mean = df_google[['ATR-9']].mean()\n",
        "df_gold_atr_mean = df_gold[['ATR-9']].mean()\n",
        "df_oil_atr_mean = df_oil[['ATR-9']].mean()\n",
        "\n",
        "df_google_close_mean = df_google[['Close']].mean()\n",
        "df_gold_close_mean = df_gold[['Close']].mean()\n",
        "df_oil_close_mean = df_oil[['Close']].mean()\n",
        "\n",
        "\n",
        "\n",
        "companies_name = ['GOOGL','Gold','Crude Oil']\n",
        "atr_mean_arr = [df_google_atr_mean,df_gold_atr_mean,df_oil_atr_mean]\n",
        "\n",
        "close_mean_arr = [df_google_close_mean, df_gold_close_mean, df_oil_close_mean]\n",
        "print(close_mean_arr)\n",
        "df = pd.DataFrame({'Company':companies_name,\n",
        "                  'ATR':atr_mean_arr,\n",
        "                  'CHG':close_mean_arr\n",
        "                  })\n",
        "# .sort_values(by=['ATR'], axis = 1)\n",
        "\n",
        "# df = df.reset_index(drop=True)\n",
        "print(df)\n",
        "X = df[['ATR','CHG']]\n",
        "scaler = MinMaxScaler()\n",
        "X = scaler.fit_transform(X)\n",
        "# Initialize a 15x15 SOM\n",
        "som = MiniSom(5, 5, 2, learning_rate=0.5, sigma=5, random_seed=42)\n",
        "\n",
        "# Initialize with randon weights\n",
        "som.random_weights_init(X)\n",
        "\n",
        "# Trains SOM with 10000 iterations\n",
        "som.train_batch(X,10000, verbose=True)\n",
        "\n",
        "# Plot SOM\n",
        "plt.figure(figsize=(20, 10))\n",
        "for ix in range(len(X)):\n",
        "    winner = som.winner(X[ix])\n",
        "    plt.text(winner[0], winner[1], df.Company[ix], bbox=dict(facecolor='white', alpha=0.5, lw=0))\n",
        "plt.imshow(som.distance_map())\n",
        "plt.grid(False)\n",
        "plt.title('Self Organizing Maps');\n",
        "\n",
        "\n",
        "# List the corresponding companies\n",
        "for ix in range(len(X)):\n",
        "    winner = som.winner(X[ix])\n",
        "    print(winner[0], winner[1], df['Company'][ix])\n"
      ],
      "execution_count": null,
      "outputs": [
        {
          "output_type": "stream",
          "text": [
            "[*********************100%***********************]  1 of 1 completed\n",
            "[*********************100%***********************]  1 of 1 completed\n",
            "[*********************100%***********************]  1 of 1 completed\n",
            "[Close    845.761484\n",
            "dtype: float64, Close    18.560864\n",
            "dtype: float64, Close    16.136104\n",
            "dtype: float64]\n",
            "     Company  ...                                 CHG\n",
            "0      GOOGL  ...  Close    845.761484\n",
            "dtype: float64\n",
            "1       Gold  ...   Close    18.560864\n",
            "dtype: float64\n",
            "2  Crude Oil  ...   Close    16.136104\n",
            "dtype: float64\n",
            "\n",
            "[3 rows x 3 columns]\n",
            " [ 10000 / 10000 ] 100% - 0:00:00 left \n",
            " quantization error: 0.017205221131468208\n",
            "4 0 GOOGL\n",
            "0 3 Gold\n",
            "0 4 Crude Oil\n"
          ],
          "name": "stdout"
        },
        {
          "output_type": "display_data",
          "data": {
            "image/png": "[encoded data removed]",
            "text/plain": [
              "<Figure size 1440x720 with 1 Axes>"
            ]
          },
          "metadata": {
            "tags": []
          }
        }
      ]
    },
    {
      "cell_type": "markdown",
      "metadata": {
        "id": "KGUCUeg0WvC-"
      },
      "source": [
        "#Conclusion\n",
        "##As can be seen from the picture, gold has a  positive correlation with oil and has a negative correlation with The stock of Google.\n",
        "\n",
        "\n"
      ]
    }
  ]
}